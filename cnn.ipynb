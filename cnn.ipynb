{
  "nbformat": 4,
  "nbformat_minor": 0,
  "metadata": {
    "colab": {
      "name": "cnn.ipynb",
      "provenance": [],
      "collapsed_sections": []
    },
    "kernelspec": {
      "name": "python3",
      "display_name": "Python 3"
    }
  },
  "cells": [
    {
      "cell_type": "code",
      "metadata": {
        "id": "bhYi7g60-GYT"
      },
      "source": [
        "pip install tensorflow numpy mnist\r\n"
      ],
      "execution_count": null,
      "outputs": []
    },
    {
      "cell_type": "markdown",
      "metadata": {
        "id": "ggKQOdu_DKz8"
      },
      "source": [
        ""
      ]
    },
    {
      "cell_type": "code",
      "metadata": {
        "id": "FKb2M_iyBPz-"
      },
      "source": [
        "import numpy as np\r\n",
        "import mnist\r\n",
        "from tensorflow import keras\r\n",
        "\r\n",
        "# mnist package has to download and cache the data.\r\n",
        "train_images = mnist.train_images()\r\n",
        "train_labels = mnist.train_labels()\r\n",
        "\r\n",
        "print(train_images.shape) \r\n",
        "print(train_labels.shape) \r\n"
      ],
      "execution_count": null,
      "outputs": []
    },
    {
      "cell_type": "code",
      "metadata": {
        "id": "H1TEHEWFBgGU"
      },
      "source": [
        "import numpy as np\r\n",
        "import mnist\r\n",
        "\r\n",
        "train_images = mnist.train_images()\r\n",
        "train_labels = mnist.train_labels()\r\n",
        "test_images = mnist.test_images()\r\n",
        "test_labels = mnist.test_labels()\r\n",
        "\r\n",
        "# Normalize the images.\r\n",
        "train_images = (train_images / 255) - 0.5\r\n",
        "test_images = (test_images / 255) - 0.5\r\n",
        "\r\n",
        "# Reshape the images.\r\n",
        "train_images = np.expand_dims(train_images, axis=3)\r\n",
        "test_images = np.expand_dims(test_images, axis=3)\r\n",
        "\r\n",
        "print(train_images.shape) \r\n",
        "print(test_images.shape)  "
      ],
      "execution_count": null,
      "outputs": []
    },
    {
      "cell_type": "code",
      "metadata": {
        "id": "8zCEfBV_BqCb"
      },
      "source": [
        "from tensorflow.keras.models import Sequential\r\n",
        "\r\n",
        "# WIP\r\n",
        "model = Sequential([\r\n",
        "  # layers...\r\n",
        "])"
      ],
      "execution_count": null,
      "outputs": []
    },
    {
      "cell_type": "code",
      "metadata": {
        "id": "ocE9A_pEB4Bd"
      },
      "source": [
        "model = Sequential([\r\n",
        "  Conv2D(num_filters, filter_size, input_shape=(28, 28, 1)),\r\n",
        "  MaxPooling2D(pool_size=pool_size),\r\n",
        "  Flatten(),\r\n",
        "  Dense(10, activation='softmax'),\r\n",
        "])\r\n"
      ],
      "execution_count": null,
      "outputs": []
    },
    {
      "cell_type": "code",
      "metadata": {
        "id": "nDTb0eK1B8hF"
      },
      "source": [
        "model.compile(\r\n",
        "  'adam',\r\n",
        "  loss='categorical_crossentropy',\r\n",
        "  metrics=['accuracy'],\r\n",
        ")\r\n"
      ],
      "execution_count": null,
      "outputs": []
    },
    {
      "cell_type": "code",
      "metadata": {
        "id": "bKOoIkH7CBPm"
      },
      "source": [
        "import mnist\r\n",
        "\r\n",
        "train_labels = mnist.train_labels()\r\n",
        "print(train_labels[0]) \r\n"
      ],
      "execution_count": null,
      "outputs": []
    },
    {
      "cell_type": "code",
      "metadata": {
        "id": "D4gKG5mZCHyw"
      },
      "source": [
        "from tensorflow.keras.utils import to_categorical\r\n",
        "\r\n",
        "model.fit(\r\n",
        "  train_images,\r\n",
        "  to_categorical(train_labels),\r\n",
        "  epochs=3,\r\n",
        "  validation_data=(test_images, to_categorical(test_labels)),\r\n",
        ")\r\n"
      ],
      "execution_count": null,
      "outputs": []
    },
    {
      "cell_type": "code",
      "metadata": {
        "id": "bFrCzlHlCZHL"
      },
      "source": [
        "model.save_weights('cnn.h5')\r\n"
      ],
      "execution_count": null,
      "outputs": []
    },
    {
      "cell_type": "code",
      "metadata": {
        "id": "jkOh5FE1Cn5p"
      },
      "source": [
        "# Predict on the first 5 test images.\r\n",
        "predictions = model.predict(test_images[:5])\r\n",
        "\r\n",
        "# Print our model's predictions.\r\n",
        "print(np.argmax(predictions, axis=1)) \r\n"
      ],
      "execution_count": null,
      "outputs": []
    },
    {
      "cell_type": "code",
      "metadata": {
        "id": "L30Gz9WxCtFE"
      },
      "source": [
        "print(test_labels[:5])\r\n"
      ],
      "execution_count": null,
      "outputs": []
    },
    {
      "cell_type": "code",
      "metadata": {
        "id": "k2c9lGcACv70"
      },
      "source": [
        ""
      ],
      "execution_count": null,
      "outputs": []
    }
  ]
}